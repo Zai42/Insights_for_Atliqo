{
 "cells": [
  {
   "cell_type": "markdown",
   "metadata": {},
   "source": [
    "# Importing Libraries"
   ]
  },
  {
   "cell_type": "code",
   "execution_count": 1,
   "metadata": {},
   "outputs": [],
   "source": [
    "import pandas as pd\n",
    "from matplotlib import pyplot as plt\n",
    "import numpy as np"
   ]
  },
  {
   "cell_type": "markdown",
   "metadata": {},
   "source": [
    "# Importing Dataset"
   ]
  },
  {
   "cell_type": "code",
   "execution_count": 2,
   "metadata": {},
   "outputs": [],
   "source": [
    "fact_atliqo_metrics = pd.read_csv(\"fact_atliqo_metrics_updated.csv\")\n",
    "cities = pd.read_csv(\"dim_cities.csv\")\n",
    "date = pd.read_csv(\"dim_date.csv\")\n",
    "plan = pd.read_csv(\"dim_plan.csv\")\n",
    "market_share = pd.read_csv(\"fact_market_share.csv\")\n",
    "fact_plan_revenue = pd.read_csv(\"fact_plan_revenue.csv\")"
   ]
  },
  {
   "cell_type": "markdown",
   "metadata": {},
   "source": [
    "# Creating extra column for fact_atliqo_metrics (Not Recommended)"
   ]
  },
  {
   "cell_type": "code",
   "execution_count": null,
   "metadata": {},
   "outputs": [],
   "source": [
    "fact_atliqo_metrics_2 = fact_atliqo_metrics.copy()"
   ]
  },
  {
   "cell_type": "code",
   "execution_count": 4,
   "metadata": {},
   "outputs": [],
   "source": [
    "fact_atliqo_metrics_2[\"extra\"] = 0"
   ]
  },
  {
   "cell_type": "code",
   "execution_count": 16,
   "metadata": {},
   "outputs": [],
   "source": [
    "fact_atliqo_metrics_2[\"extra\"] = np.where(fact_atliqo_metrics_2[\"date\"]==\"01-Jan-22\",\"Jan\",fact_atliqo_metrics_2[\"extra\"])\n",
    "fact_atliqo_metrics_2[\"extra\"] = np.where(fact_atliqo_metrics_2[\"date\"]==\"01-Feb-22\",\"Feb\",fact_atliqo_metrics_2[\"extra\"])\n",
    "fact_atliqo_metrics_2[\"extra\"] = np.where(fact_atliqo_metrics_2[\"date\"]==\"01-Mar-22\",\"Mar\",fact_atliqo_metrics_2[\"extra\"])\n",
    "fact_atliqo_metrics_2[\"extra\"] = np.where(fact_atliqo_metrics_2[\"date\"]==\"01-Apr-22\",\"Apr\",fact_atliqo_metrics_2[\"extra\"])\n",
    "fact_atliqo_metrics_2[\"extra\"] = np.where(fact_atliqo_metrics_2[\"date\"]==\"01-Jun-22\",\"Jun\",fact_atliqo_metrics_2[\"extra\"])\n",
    "fact_atliqo_metrics_2[\"extra\"] = np.where(fact_atliqo_metrics_2[\"date\"]==\"01-Jul-22\",\"Jul\",fact_atliqo_metrics_2[\"extra\"])\n",
    "fact_atliqo_metrics_2[\"extra\"] = np.where(fact_atliqo_metrics_2[\"date\"]==\"01-Aug-22\",\"Aug\",fact_atliqo_metrics_2[\"extra\"])\n",
    "fact_atliqo_metrics_2[\"extra\"] = np.where(fact_atliqo_metrics_2[\"date\"]==\"01-Sep-22\",\"Sep\",fact_atliqo_metrics_2[\"extra\"])"
   ]
  },
  {
   "cell_type": "markdown",
   "metadata": {},
   "source": [
    "# Creating Seperate Datasets for eachmonths"
   ]
  },
  {
   "cell_type": "code",
   "execution_count": 22,
   "metadata": {},
   "outputs": [],
   "source": [
    "jan = fact_atliqo_metrics_2[fact_atliqo_metrics_2[\"extra\"]==\"Jan\"]\n",
    "fab = fact_atliqo_metrics_2[fact_atliqo_metrics_2[\"extra\"]==\"Feb\"]\n",
    "mar = fact_atliqo_metrics_2[fact_atliqo_metrics_2[\"extra\"]==\"Mar\"]\n",
    "apr = fact_atliqo_metrics_2[fact_atliqo_metrics_2[\"extra\"]==\"Apr\"]\n",
    "jun = fact_atliqo_metrics_2[fact_atliqo_metrics_2[\"extra\"]==\"Jun\"]\n",
    "jul = fact_atliqo_metrics_2[fact_atliqo_metrics_2[\"extra\"]==\"Jul\"]\n",
    "aug = fact_atliqo_metrics_2[fact_atliqo_metrics_2[\"extra\"]==\"Aug\"]\n",
    "sep = fact_atliqo_metrics_2[fact_atliqo_metrics_2[\"extra\"]==\"Sep\"]"
   ]
  },
  {
   "cell_type": "markdown",
   "metadata": {},
   "source": [
    "# Finding Sum of active users and leaving users in each month"
   ]
  },
  {
   "cell_type": "code",
   "execution_count": 98,
   "metadata": {},
   "outputs": [],
   "source": [
    "user_leaving = []\n",
    "active_users = []\n",
    "months = [\"jan\",\"feb\",\"mar\",\"apr\",\"jun\",\"jul\",\"aug\",\"sep\"]\n",
    "#active_users.append(sep[\"active_users_lakhs\"].sum())"
   ]
  },
  {
   "cell_type": "code",
   "execution_count": 107,
   "metadata": {},
   "outputs": [],
   "source": [
    "date_2 = date.copy()\n",
    "#date_2[\"Active_User\"] = active_users\n",
    "#date_2.to_csv(\"date_2.csv\")"
   ]
  },
  {
   "cell_type": "code",
   "execution_count": 117,
   "metadata": {},
   "outputs": [
    {
     "data": {
      "text/plain": [
       "array(['01-Jan-22', '01-Feb-22', '01-Mar-22', '01-Apr-22', '01-Jun-22',\n",
       "       '01-Jul-22', '01-Aug-22', '01-Sep-22'], dtype=object)"
      ]
     },
     "execution_count": 117,
     "metadata": {},
     "output_type": "execute_result"
    }
   ],
   "source": [
    "fact_atliqo_metrics_2[\"date\"].unique()"
   ]
  },
  {
   "cell_type": "markdown",
   "metadata": {},
   "source": [
    "# Separating \"fact_plan_revenue\" according to month \n"
   ]
  },
  {
   "cell_type": "code",
   "execution_count": 126,
   "metadata": {},
   "outputs": [],
   "source": [
    "jan_2 = fact_plan_revenue[fact_plan_revenue[\"date\"]==\"01-Jan-22\"]\n",
    "feb_2 = fact_plan_revenue[fact_plan_revenue[\"date\"]==\"01-Feb-22\"]\n",
    "mar_2 = fact_plan_revenue[fact_plan_revenue[\"date\"]==\"01-Mar-22\"]\n",
    "apr_2 = fact_plan_revenue[fact_plan_revenue[\"date\"]==\"01-Apr-22\"]\n",
    "jun_2 = fact_plan_revenue[fact_plan_revenue[\"date\"]==\"01-Jun-22\"]\n",
    "jul_2 = fact_plan_revenue[fact_plan_revenue[\"date\"]==\"01-Jul-22\"]\n",
    "aug_2 = fact_plan_revenue[fact_plan_revenue[\"date\"]==\"01-Aug-22\"]\n",
    "sep_2 = fact_plan_revenue[fact_plan_revenue[\"date\"]==\"01-Sep-22\"]"
   ]
  },
  {
   "cell_type": "code",
   "execution_count": null,
   "metadata": {},
   "outputs": [],
   "source": []
  },
  {
   "cell_type": "code",
   "execution_count": 139,
   "metadata": {},
   "outputs": [
    {
     "data": {
      "text/plain": [
       "company\n",
       "Atliqo      2347.20\n",
       "Britel      3298.45\n",
       "DADAFONE    1236.74\n",
       "Others       867.79\n",
       "PIO         4249.85\n",
       "Name: ms_pct, dtype: float64"
      ]
     },
     "execution_count": 139,
     "metadata": {},
     "output_type": "execute_result"
    }
   ],
   "source": []
  },
  {
   "cell_type": "markdown",
   "metadata": {},
   "source": [
    "This file contains all the meta information regarding the columns described in the CSV files. we have provided 6 CSV files:\n",
    "1. dim_cities\n",
    "2. dim_date\n",
    "3. dim_plan\n",
    "4. fact_atliqo_metrics\n",
    "5. fact_market_share\n",
    "6. fact_plan_revenue\n",
    "a\n",
    "\n",
    "\n",
    "Column Description for dim_cities:\n",
    "1. city_code: This column represents the unique code given for each city.\n",
    "2. city_name: This column represents the name of the city corresponding to the city code.\n",
    "\n",
    "\n",
    "\n",
    "Column Description for dim_date:\n",
    "1. date: This column represents the starting date of each month. \n",
    "2. month_name: This column represents the month names in abbreviated form(Example: Jan, Feb, Mar, etc). We have months starting from January to September except for May.\n",
    "3. before/after_5g: This column represents the unique category based on the month. We have 2 categories, Before 5G and After 5G. January to April comes represents the period before 5G implementation and June to September represents periods after 5G implementation.\n",
    "4. time_period: This column represents the unique sequence number ranging from 1 to 4. These time Periods are used to make respective months comparisons before and after 5G implementation (Example: Jan vs Jun, Feb vs Jul, Mar vs Aug and Apr vs Sep)\n",
    "\n",
    "\n",
    "\n",
    "\n",
    "Column Description for dim_plan:\n",
    "1. plan: This column represents the various internet plans provided by the Atliqo company to the users. \n",
    "2. plan_description: This column represents the brief description about the internet plan.\n",
    "\n",
    "\n",
    "\n",
    "Column Description for fact_atliqo_metrics:\n",
    "1. date: This column represents the starting date of each month.\n",
    "2. city_code: This column represents the unique pincode code given for each city.\n",
    "3. company: This column represents the company name for which the data is provided. In this dataset it's only Atliqo. \n",
    "4. atliqo_revenue_crores: This column represents the revenue that Atliqo got on that particular month in that city_code in crores(unit of currency in India - 1Crore = 10 Million) from the internet users. \n",
    "5. arpu: This column represents the average revenue per user. That means on average how much revenue Atliqo generated on single user for a given time period.\n",
    "6. active_users_lakhs: This column represents the number of active users who are using Atliqo's service on that particular month in that city_code in lakhs(unit of currency in India - 1 Lakh = 100,000).\n",
    "7. unsubscribed_users_lakhs: This column represents the number of unsubscribed users who unsubscribed from Atliqo on that particular month in that city_code in lakhs(unit of currency in India - 1 Lakh = 100,000). \n",
    "\n",
    "\n",
    "\n",
    "\n",
    "Column Description for fact_market_share:\n",
    "1. date: This column represents the starting date of each month.\n",
    "2. city_code: This column represents the unique code given for each city.\n",
    "3. tmv_city_crores: This column represents the total market value of the city in that month in crores(unit of currency in India) from the internet users. \n",
    "4. company: This column represents the different competitor names in the telecom industry [Atliqo, Britel, DADAFONE, PIO, Others].\n",
    "5. ms_pct: This column represents the percentage of market share gained by respective company from the total market value(tmv_city) on that particular month in that city-code. \n",
    "\n",
    "\n",
    "\n",
    "\n",
    "Column Description for fact_plan_revenue:\n",
    "1. date: This column represents the starting date of each month.\n",
    "2. city_code: This column represents the unique code given for each city.\n",
    "3. plans: This column represents the various internet plans provided by the Atliqo company to the users.\n",
    "4. plan_revenue_crores: This column represents the revenue that Atliqo got from that respective plan on that particular month in that city_code in crores (unit of currency in India - 1Crore = 10 Million).\n",
    "\n"
   ]
  },
  {
   "cell_type": "code",
   "execution_count": null,
   "metadata": {},
   "outputs": [],
   "source": []
  }
 ],
 "metadata": {
  "kernelspec": {
   "display_name": "Python 3",
   "language": "python",
   "name": "python3"
  },
  "language_info": {
   "codemirror_mode": {
    "name": "ipython",
    "version": 3
   },
   "file_extension": ".py",
   "mimetype": "text/x-python",
   "name": "python",
   "nbconvert_exporter": "python",
   "pygments_lexer": "ipython3",
   "version": "3.8.5"
  }
 },
 "nbformat": 4,
 "nbformat_minor": 4
}
